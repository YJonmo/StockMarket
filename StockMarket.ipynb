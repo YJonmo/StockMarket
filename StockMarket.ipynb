{
  "nbformat": 4,
  "nbformat_minor": 0,
  "metadata": {
    "colab": {
      "name": "StockMarket.ipynb",
      "provenance": [],
      "collapsed_sections": [],
      "mount_file_id": "10-95gEGbiDpRd-4kUFf41C2nYUa6Ltnh",
      "authorship_tag": "ABX9TyNVs2+JvMWbrCfryKOzZgyv",
      "include_colab_link": true
    },
    "kernelspec": {
      "name": "python3",
      "display_name": "Python 3"
    }
  },
  "cells": [
    {
      "cell_type": "markdown",
      "metadata": {
        "id": "view-in-github",
        "colab_type": "text"
      },
      "source": [
        "<a href=\"https://colab.research.google.com/github/YJonmo/StockMarket/blob/main/StockMarket.ipynb\" target=\"_parent\"><img src=\"https://colab.research.google.com/assets/colab-badge.svg\" alt=\"Open In Colab\"/></a>"
      ]
    },
    {
      "cell_type": "code",
      "metadata": {
        "id": "m6oIfkiIQJLX"
      },
      "source": [
        ""
      ],
      "execution_count": null,
      "outputs": []
    },
    {
      "cell_type": "code",
      "metadata": {
        "id": "GQ18Kd5F3uKe",
        "colab": {
          "base_uri": "https://localhost:8080/"
        },
        "outputId": "d74f591b-5583-4692-8a80-db9aea9e1322"
      },
      "source": [
        "!pip install yfinance\n",
        "!pip install torch torchvision torchaudio\n",
        "!pip install opencv-python\n"
      ],
      "execution_count": 3,
      "outputs": [
        {
          "output_type": "stream",
          "text": [
            "Collecting yfinance\n",
            "  Downloading https://files.pythonhosted.org/packages/7a/e8/b9d7104d3a4bf39924799067592d9e59119fcfc900a425a12e80a3123ec8/yfinance-0.1.55.tar.gz\n",
            "Requirement already satisfied: pandas>=0.24 in /usr/local/lib/python3.7/dist-packages (from yfinance) (1.1.5)\n",
            "Requirement already satisfied: numpy>=1.15 in /usr/local/lib/python3.7/dist-packages (from yfinance) (1.19.5)\n",
            "Requirement already satisfied: requests>=2.20 in /usr/local/lib/python3.7/dist-packages (from yfinance) (2.23.0)\n",
            "Requirement already satisfied: multitasking>=0.0.7 in /usr/local/lib/python3.7/dist-packages (from yfinance) (0.0.9)\n",
            "Collecting lxml>=4.5.1\n",
            "\u001b[?25l  Downloading https://files.pythonhosted.org/packages/d2/88/b25778f17e5320c1c58f8c5060fb5b037288e162bd7554c30799e9ea90db/lxml-4.6.2-cp37-cp37m-manylinux1_x86_64.whl (5.5MB)\n",
            "\u001b[K     |████████████████████████████████| 5.5MB 11.8MB/s \n",
            "\u001b[?25hRequirement already satisfied: python-dateutil>=2.7.3 in /usr/local/lib/python3.7/dist-packages (from pandas>=0.24->yfinance) (2.8.1)\n",
            "Requirement already satisfied: pytz>=2017.2 in /usr/local/lib/python3.7/dist-packages (from pandas>=0.24->yfinance) (2018.9)\n",
            "Requirement already satisfied: urllib3!=1.25.0,!=1.25.1,<1.26,>=1.21.1 in /usr/local/lib/python3.7/dist-packages (from requests>=2.20->yfinance) (1.24.3)\n",
            "Requirement already satisfied: certifi>=2017.4.17 in /usr/local/lib/python3.7/dist-packages (from requests>=2.20->yfinance) (2020.12.5)\n",
            "Requirement already satisfied: chardet<4,>=3.0.2 in /usr/local/lib/python3.7/dist-packages (from requests>=2.20->yfinance) (3.0.4)\n",
            "Requirement already satisfied: idna<3,>=2.5 in /usr/local/lib/python3.7/dist-packages (from requests>=2.20->yfinance) (2.10)\n",
            "Requirement already satisfied: six>=1.5 in /usr/local/lib/python3.7/dist-packages (from python-dateutil>=2.7.3->pandas>=0.24->yfinance) (1.15.0)\n",
            "Building wheels for collected packages: yfinance\n",
            "  Building wheel for yfinance (setup.py) ... \u001b[?25l\u001b[?25hdone\n",
            "  Created wheel for yfinance: filename=yfinance-0.1.55-py2.py3-none-any.whl size=22616 sha256=240a91b05f7d23b771a09ab18ddd0e8b3d396cbe8a1dfaff86f3ba303052325d\n",
            "  Stored in directory: /root/.cache/pip/wheels/04/98/cc/2702a4242d60bdc14f48b4557c427ded1fe92aedf257d4565c\n",
            "Successfully built yfinance\n",
            "Installing collected packages: lxml, yfinance\n",
            "  Found existing installation: lxml 4.2.6\n",
            "    Uninstalling lxml-4.2.6:\n",
            "      Successfully uninstalled lxml-4.2.6\n",
            "Successfully installed lxml-4.6.2 yfinance-0.1.55\n",
            "Requirement already satisfied: torch in /usr/local/lib/python3.7/dist-packages (1.8.0+cu101)\n",
            "Requirement already satisfied: torchvision in /usr/local/lib/python3.7/dist-packages (0.9.0+cu101)\n",
            "Collecting torchaudio\n",
            "\u001b[?25l  Downloading https://files.pythonhosted.org/packages/18/9a/4e2e6dbde627ffb8a6d1d4ebc4683edecad1c08099969f1d7760d92175ff/torchaudio-0.8.0-cp37-cp37m-manylinux1_x86_64.whl (1.9MB)\n",
            "\u001b[K     |████████████████████████████████| 1.9MB 8.2MB/s \n",
            "\u001b[?25hRequirement already satisfied: typing-extensions in /usr/local/lib/python3.7/dist-packages (from torch) (3.7.4.3)\n",
            "Requirement already satisfied: numpy in /usr/local/lib/python3.7/dist-packages (from torch) (1.19.5)\n",
            "Requirement already satisfied: pillow>=4.1.1 in /usr/local/lib/python3.7/dist-packages (from torchvision) (7.0.0)\n",
            "Installing collected packages: torchaudio\n",
            "Successfully installed torchaudio-0.8.0\n",
            "Requirement already satisfied: opencv-python in /usr/local/lib/python3.7/dist-packages (4.1.2.30)\n",
            "Requirement already satisfied: numpy>=1.14.5 in /usr/local/lib/python3.7/dist-packages (from opencv-python) (1.19.5)\n"
          ],
          "name": "stdout"
        }
      ]
    },
    {
      "cell_type": "code",
      "metadata": {
        "colab": {
          "base_uri": "https://localhost:8080/"
        },
        "id": "pzDfAwPrPx7n",
        "outputId": "384b1395-3c89-45a9-80e3-5e939ce7f0d8"
      },
      "source": [
        "#This code uploads a list of stock's names and finds their variances and gains. \n",
        "#It also applies Least Squared Error algorithm to predict the stock prices and \n",
        "# returns the angles and the biases, and residual error. Using these info it is \n",
        "# possible to find the stocks which are more predictable.\n",
        "\n",
        "import numpy as np\n",
        "import yfinance as yf\n",
        "from google.colab import files\n",
        "from google.colab import drive\n",
        "from matplotlib import pyplot as plt\n",
        "import torch\n",
        "Stocks = []\n",
        "\n",
        "#drive.mount('/content/drive')\n",
        "#uploaded = files.upload()\n",
        "file = open('/content/drive/My Drive/Colab Notebooks/StocksonStake _ All.txt', 'r')\n",
        "\n",
        "NAZDAQ_names = file.readlines() \n",
        "NAZDAQ_names3 = []\n",
        "\n",
        "for i in range(len(NAZDAQ_names)):\n",
        "#for i in range(20):\n",
        "    print(\"\\r\"+\"Reading stock data from \" + NAZDAQ_names[i].split(' ')[0], end = \"\")\n",
        "    Stock = yf.Ticker(NAZDAQ_names[i].split(' ')[0])\n",
        "    \n",
        "    #old = Stock.history(start=\"2021-01-08\")\n",
        "    old = Stock.history(period=\"2mo\")\n",
        "    if not(old.empty):\n",
        "#        file2.write(NAZDAQ_names[i])\n",
        "        \n",
        "        old.head()\n",
        "        old = old.reset_index()\n",
        "        #for i in ['Open', 'High', 'Close', 'Low']: \n",
        "        #old[\"Close\"] = old[\"Close\"].astype('float64')\n",
        "        Stocks.append(old[\"Close\"].astype('float64'))\n",
        "        NAZDAQ_names3.append(NAZDAQ_names[i])"
      ],
      "execution_count": null,
      "outputs": [
        {
          "output_type": "stream",
          "text": [
            "Reading stock data from ACIC.U- ACIC.U: No data found, symbol may be delisted\n",
            "Reading stock data from AKO.A- AKO.A: No data found, symbol may be delisted\n",
            "Reading stock data from BF.A- BF.A: No data found, symbol may be delisted\n",
            "Reading stock data from BF.B- BF.B: No data found for this date range, symbol may be delisted\n",
            "Reading stock data from BHVN"
          ],
          "name": "stdout"
        }
      ]
    },
    {
      "cell_type": "code",
      "metadata": {
        "colab": {
          "base_uri": "https://localhost:8080/"
        },
        "id": "llzIIpgDmiBy",
        "outputId": "3a4bef60-b371-4d94-dba4-5aaa5dd6f506"
      },
      "source": [
        "print(len(Stocks))\n",
        "Stocks2 = []\n",
        "NAZDAQ_names2 = []\n",
        "Length = len(Stocks[0])\n",
        "for i in range(len(Stocks)):\n",
        "    if len(Stocks[i]) == Length:\n",
        "        Stocks2.append(Stocks[i])\n",
        "        NAZDAQ_names2.append(NAZDAQ_names3[i])\n",
        "\n",
        "\n",
        "import torch\n",
        "\n",
        "Stocks2 = np.array(Stocks2)\n",
        "Stocks_Flatten = np.array(Stocks2)\n",
        "X = np.linspace(0,Length-1, Length)\n",
        "Mean = np.zeros((len(Stocks2)), np.float64)\n",
        "Var = np.zeros((len(Stocks2)), np.float64)\n",
        "Gain = np.zeros((len(Stocks2)), np.float64)\n",
        "Angle = np.zeros((len(Stocks2)), np.float64)\n",
        "Residu = np.zeros((len(Stocks2)), np.float64)\n",
        "\n",
        "for i in range(len(Stocks2)):\n",
        "    Stocks_Flatten[i] = Stocks2[i]/np.max(Stocks2[i])*100\n",
        "    #Gain[i] = Stocks2[i][Length-1] - Stocks2[i][0]\n",
        "    #Coeffs = X*Gain[i]/(Length -1 + 0.00001)\n",
        "    #Stocks_Flatten[i] = Stocks2[i]-Coeffs\n",
        "    Stocks_Flatten[i] = (Stocks_Flatten[i]-np.min(Stocks_Flatten[i]))\n",
        "    Stocks_Flatten[i] = 100*Stocks_Flatten[i]/(np.max(Stocks_Flatten[i]))\n",
        "    Gain[i] = Stocks_Flatten[i][Length-1] - Stocks_Flatten[i][0]\n",
        "    Coeffs = (X*Gain[i])/(Length -1 + 0.00001)\n",
        "    Stocks_Flatten[i] = Stocks_Flatten[i]-Coeffs\n",
        "    Var[i] = np.var(Stocks_Flatten[i])   \n",
        "    Mean[i] = np.mean(Stocks_Flatten[i])    \n",
        "\n",
        "    \n",
        "    A = np.vstack([X, np.ones(Length)]).T\n",
        "    model_parameters, residuals, rank, singular_values = np.linalg.lstsq(A, Stocks2[i], rcond=None)\n",
        "    #m, c = np.linalg.lstsq(A, Stocks2[i], rcond=None)[0]\n",
        "    Angle[i],_ = model_parameters\n",
        "    #Residu[i] = residuals\n",
        "    Yh = np.dot(A, model_parameters)\n",
        "    Residu[i] = np.square(Stocks2[i] - Yh).mean()"
      ],
      "execution_count": 16,
      "outputs": [
        {
          "output_type": "stream",
          "text": [
            "3862\n"
          ],
          "name": "stdout"
        }
      ]
    },
    {
      "cell_type": "code",
      "metadata": {
        "id": "MPlSWIKuH3Kj"
      },
      "source": [
        "Threshold_above = 0.10\n",
        "Threshold_below = 0.9\n",
        "Gainer_indexes = np.where((Angle>Threshold_above)&(Threshold_below>Angle))\n",
        "Gain  = Gain[Gainer_indexes]\n",
        "Angle = Angle[Gainer_indexes]\n",
        "Residu= Residu[Gainer_indexes]\n",
        "Var   = Var[Gainer_indexes]\n",
        "Stocks_Flatten = Stocks_Flatten[Gainer_indexes]\n",
        "Stocks2 = Stocks2[Gainer_indexes]\n",
        "NAZDAQ_names = []\n",
        "for i in Gainer_indexes[0]:\n",
        "  NAZDAQ_names.append(NAZDAQ_names2[i])"
      ],
      "execution_count": 17,
      "outputs": []
    },
    {
      "cell_type": "code",
      "metadata": {
        "colab": {
          "base_uri": "https://localhost:8080/",
          "height": 237
        },
        "id": "Lp9Opd1xHR7n",
        "outputId": "c255599d-8fc8-4e07-9bb2-04128fde9c00"
      },
      "source": [
        "print(len(NAZDAQ_names))\n",
        "i = np.argmin(Residu)           # the criteria for choosing a stock\n",
        "#print(i)\n",
        "model_parameters, residuals, rank, singular_values = np.linalg.lstsq(A, Stocks2[i], rcond=None)\n",
        "Yh = np.dot(A, model_parameters)\n",
        "plt.plot(np.transpose([(Stocks2[i]), Yh]))\n",
        "print(\"Stock name: \" + NAZDAQ_names[i])\n",
        "#print(np.arctan(Angle[i])*57.2)\n"
      ],
      "execution_count": 2,
      "outputs": [
        {
          "output_type": "error",
          "ename": "NameError",
          "evalue": "ignored",
          "traceback": [
            "\u001b[0;31m---------------------------------------------------------------------------\u001b[0m",
            "\u001b[0;31mNameError\u001b[0m                                 Traceback (most recent call last)",
            "\u001b[0;32m<ipython-input-2-16e6e8b00286>\u001b[0m in \u001b[0;36m<module>\u001b[0;34m()\u001b[0m\n\u001b[0;32m----> 1\u001b[0;31m \u001b[0mprint\u001b[0m\u001b[0;34m(\u001b[0m\u001b[0mlen\u001b[0m\u001b[0;34m(\u001b[0m\u001b[0mNAZDAQ_names\u001b[0m\u001b[0;34m)\u001b[0m\u001b[0;34m)\u001b[0m\u001b[0;34m\u001b[0m\u001b[0;34m\u001b[0m\u001b[0m\n\u001b[0m\u001b[1;32m      2\u001b[0m \u001b[0mi\u001b[0m \u001b[0;34m=\u001b[0m \u001b[0mnp\u001b[0m\u001b[0;34m.\u001b[0m\u001b[0margmin\u001b[0m\u001b[0;34m(\u001b[0m\u001b[0mResidu\u001b[0m\u001b[0;34m)\u001b[0m           \u001b[0;31m# the criteria for choosing a stock\u001b[0m\u001b[0;34m\u001b[0m\u001b[0;34m\u001b[0m\u001b[0m\n\u001b[1;32m      3\u001b[0m \u001b[0;31m#print(i)\u001b[0m\u001b[0;34m\u001b[0m\u001b[0;34m\u001b[0m\u001b[0;34m\u001b[0m\u001b[0m\n\u001b[1;32m      4\u001b[0m \u001b[0mmodel_parameters\u001b[0m\u001b[0;34m,\u001b[0m \u001b[0mresiduals\u001b[0m\u001b[0;34m,\u001b[0m \u001b[0mrank\u001b[0m\u001b[0;34m,\u001b[0m \u001b[0msingular_values\u001b[0m \u001b[0;34m=\u001b[0m \u001b[0mnp\u001b[0m\u001b[0;34m.\u001b[0m\u001b[0mlinalg\u001b[0m\u001b[0;34m.\u001b[0m\u001b[0mlstsq\u001b[0m\u001b[0;34m(\u001b[0m\u001b[0mA\u001b[0m\u001b[0;34m,\u001b[0m \u001b[0mStocks2\u001b[0m\u001b[0;34m[\u001b[0m\u001b[0mi\u001b[0m\u001b[0;34m]\u001b[0m\u001b[0;34m,\u001b[0m \u001b[0mrcond\u001b[0m\u001b[0;34m=\u001b[0m\u001b[0;32mNone\u001b[0m\u001b[0;34m)\u001b[0m\u001b[0;34m\u001b[0m\u001b[0;34m\u001b[0m\u001b[0m\n\u001b[1;32m      5\u001b[0m \u001b[0mYh\u001b[0m \u001b[0;34m=\u001b[0m \u001b[0mnp\u001b[0m\u001b[0;34m.\u001b[0m\u001b[0mdot\u001b[0m\u001b[0;34m(\u001b[0m\u001b[0mA\u001b[0m\u001b[0;34m,\u001b[0m \u001b[0mmodel_parameters\u001b[0m\u001b[0;34m)\u001b[0m\u001b[0;34m\u001b[0m\u001b[0;34m\u001b[0m\u001b[0m\n",
            "\u001b[0;31mNameError\u001b[0m: name 'NAZDAQ_names' is not defined"
          ]
        }
      ]
    },
    {
      "cell_type": "code",
      "metadata": {
        "id": "I_QOWggZULPS"
      },
      "source": [
        "print(len(Stocks))\n",
        "Stocks2 = torch.tensor(())\n",
        "NAZDAQ_names2 = []\n",
        "Length = len(Stocks[0])\n",
        "for i in range(len(Stocks)):\n",
        "    if len(Stocks[i]) == Length:\n",
        "        #Stocks2.append(Stocks[i])\n",
        "        NAZDAQ_names2.append(NAZDAQ_names3[i])\n",
        "        Stack = torch.tensor([Stocks[i]]).float()\n",
        "        Stocks2 = torch.cat((Stocks2, Stack), 0)\n",
        "\n",
        "Stocks_Flatten = Stocks2.detach().clone()\n",
        "X     = torch.linspace(0,Length-1, steps=1)\n",
        "Mean  = torch.zeros(len(Stocks2))\n",
        "Var   = torch.zeros(len(Stocks2))\n",
        "Gain  = torch.zeros(len(Stocks2))\n",
        "Angle = torch.zeros(len(Stocks2))\n",
        "Residu= torch.zeros(len(Stocks2))\n",
        "print((Stocks2.shape))\n",
        "print(Gain[0])\n",
        "print(torch.mean(Stocks2.data[10]))"
      ],
      "execution_count": null,
      "outputs": []
    }
  ]
}