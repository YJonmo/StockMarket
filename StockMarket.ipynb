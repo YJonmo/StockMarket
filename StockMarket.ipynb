{
  "nbformat": 4,
  "nbformat_minor": 0,
  "metadata": {
    "colab": {
      "name": "StockMarket.ipynb",
      "provenance": [],
      "collapsed_sections": [],
      "mount_file_id": "10-95gEGbiDpRd-4kUFf41C2nYUa6Ltnh",
      "authorship_tag": "ABX9TyPut62wKoEDoQL8Tm4WzWPs",
      "include_colab_link": true
    },
    "kernelspec": {
      "name": "python3",
      "display_name": "Python 3"
    }
  },
  "cells": [
    {
      "cell_type": "markdown",
      "metadata": {
        "id": "view-in-github",
        "colab_type": "text"
      },
      "source": [
        "<a href=\"https://colab.research.google.com/github/YJonmo/StockMarket/blob/main/StockMarket.ipynb\" target=\"_parent\"><img src=\"https://colab.research.google.com/assets/colab-badge.svg\" alt=\"Open In Colab\"/></a>"
      ]
    },
    {
      "cell_type": "code",
      "metadata": {
        "id": "m6oIfkiIQJLX"
      },
      "source": [
        ""
      ],
      "execution_count": null,
      "outputs": []
    },
    {
      "cell_type": "code",
      "metadata": {
        "id": "GQ18Kd5F3uKe"
      },
      "source": [
        "!pip install yfinance\n",
        "!pip install torch torchvision torchaudio\n",
        "!pip install opencv-python\n"
      ],
      "execution_count": null,
      "outputs": []
    },
    {
      "cell_type": "code",
      "metadata": {
        "id": "pzDfAwPrPx7n"
      },
      "source": [
        "#This code uploads a list of stock's names and finds their variances and gains. \n",
        "#It also applies Least Squared Error algorithm to predict the stock prices and \n",
        "# returns the angles and the biases, and residual error. Using these info it is \n",
        "# possible to find the stocks which are more predictable.\n",
        "\n",
        "import numpy as np\n",
        "import yfinance as yf\n",
        "from google.colab import files\n",
        "from google.colab import drive\n",
        "from matplotlib import pyplot as plt\n",
        "import torch\n",
        "import time\n",
        "\n",
        "Stocks = []\n",
        "\n",
        "#drive.mount('/content/drive')\n",
        "#uploaded = files.upload()\n",
        "file = open('/content/drive/My Drive/Colab Notebooks/StocksonStake _ All.txt', 'r')\n",
        "\n",
        "NAZDAQ_names = file.readlines() \n",
        "NAZDAQ_names3 = []\n",
        "\n",
        "for i in range(len(NAZDAQ_names)):\n",
        "#for i in range(20):\n",
        "    print(\"\\r\"+\"Reading stock data from \" + NAZDAQ_names[i].split(' ')[0], end = \"\")\n",
        "    Stock = yf.Ticker(NAZDAQ_names[i].split(' ')[0])\n",
        "    \n",
        "    #old = Stock.history(start=\"2021-01-08\")\n",
        "    old = Stock.history(period=\"2mo\")\n",
        "    if not(old.empty):\n",
        "#        file2.write(NAZDAQ_names[i])\n",
        "        \n",
        "        old.head()\n",
        "        old = old.reset_index()\n",
        "        #for i in ['Open', 'High', 'Close', 'Low']: \n",
        "        #old[\"Close\"] = old[\"Close\"].astype('float64')\n",
        "        Stocks.append(old[\"Close\"].astype('float64'))\n",
        "        NAZDAQ_names3.append(NAZDAQ_names[i])"
      ],
      "execution_count": null,
      "outputs": []
    },
    {
      "cell_type": "code",
      "metadata": {
        "id": "llzIIpgDmiBy"
      },
      "source": [
        "print(len(Stocks))\n",
        "Stocks2 = []\n",
        "NAZDAQ_names2 = []\n",
        "Length = len(Stocks[0])\n",
        "for i in range(len(Stocks)):\n",
        "    if len(Stocks[i]) == Length:\n",
        "        Stocks2.append(Stocks[i])\n",
        "        NAZDAQ_names2.append(NAZDAQ_names3[i])\n",
        "\n",
        "\n",
        "Stocks2 = np.array(Stocks2)\n",
        "Stocks_Flatten = np.array(Stocks2)\n",
        "X = np.linspace(0,Length-1, Length)\n",
        "Mean = np.zeros((len(Stocks2)), np.float64)\n",
        "Var = np.zeros((len(Stocks2)), np.float64)\n",
        "Gain = np.zeros((len(Stocks2)), np.float64)\n",
        "Angle = np.zeros((len(Stocks2)), np.float64)\n",
        "Residu = np.zeros((len(Stocks2)), np.float64)\n",
        "\n",
        "for i in range(len(Stocks2)):\n",
        "    Stocks_Flatten[i] = Stocks2[i]/np.max(Stocks2[i])*100\n",
        "    #Gain[i] = Stocks2[i][Length-1] - Stocks2[i][0]\n",
        "    #Coeffs = X*Gain[i]/(Length -1 + 0.00001)\n",
        "    #Stocks_Flatten[i] = Stocks2[i]-Coeffs\n",
        "    Stocks_Flatten[i] = (Stocks_Flatten[i]-np.min(Stocks_Flatten[i]))\n",
        "    Stocks_Flatten[i] = 100*Stocks_Flatten[i]/(np.max(Stocks_Flatten[i]))\n",
        "    Gain[i] = Stocks_Flatten[i][Length-1] - Stocks_Flatten[i][0]\n",
        "    Coeffs = (X*Gain[i])/(Length -1 + 0.00001)\n",
        "    Stocks_Flatten[i] = Stocks_Flatten[i]-Coeffs\n",
        "    Var[i] = np.var(Stocks_Flatten[i])   \n",
        "    Mean[i] = np.mean(Stocks_Flatten[i])    \n",
        "\n",
        "    \n",
        "    A = np.vstack([X, np.ones(Length)]).T\n",
        "    model_parameters, residuals, rank, singular_values = np.linalg.lstsq(A, Stocks2[i], rcond=None)\n",
        "    #m, c = np.linalg.lstsq(A, Stocks2[i], rcond=None)[0]\n",
        "    Angle[i],_ = model_parameters\n",
        "    #Residu[i] = residuals\n",
        "    Yh = np.dot(A, model_parameters)\n",
        "    Residu[i] = np.square(Stocks2[i] - Yh).mean()"
      ],
      "execution_count": null,
      "outputs": []
    },
    {
      "cell_type": "code",
      "metadata": {
        "id": "MPlSWIKuH3Kj"
      },
      "source": [
        "Threshold_above = 0.15\n",
        "Threshold_below = 0.9\n",
        "Gainer_indexes = np.where((Angle>Threshold_above)&(Threshold_below>Angle))\n",
        "print(len(Gainer_indexes[0]))\n",
        "Gain  = Gain[Gainer_indexes]\n",
        "Angle = Angle[Gainer_indexes]\n",
        "Residu= Residu[Gainer_indexes]\n",
        "Var   = Var[Gainer_indexes]\n",
        "Stocks_Flatten = Stocks_Flatten[Gainer_indexes]\n",
        "Stocks2 = Stocks2[Gainer_indexes]\n",
        "NAZDAQ_names = []\n",
        "for i in Gainer_indexes[0]:\n",
        "  NAZDAQ_names.append(NAZDAQ_names2[i])"
      ],
      "execution_count": null,
      "outputs": []
    },
    {
      "cell_type": "code",
      "metadata": {
        "colab": {
          "base_uri": "https://localhost:8080/",
          "height": 317
        },
        "id": "Lp9Opd1xHR7n",
        "outputId": "a3d04e74-992b-4a44-ecbc-ed7148138750"
      },
      "source": [
        "print(len(NAZDAQ_names))\n",
        "i = np.argmin(Var)           # the criteria for choosing a stock\n",
        "#print(i)\n",
        "model_parameters, residuals, rank, singular_values = np.linalg.lstsq(A, Stocks2[i], rcond=None)\n",
        "Yh = np.dot(A, model_parameters)\n",
        "plt.plot(np.transpose([(Stocks2[i]), Yh]))\n",
        "print(\"Stock name: \" + NAZDAQ_names[i])\n",
        "#print(np.arctan(Angle[i])*57.2)\n"
      ],
      "execution_count": 168,
      "outputs": [
        {
          "output_type": "stream",
          "text": [
            "572\n",
            "Stock name: JCOM j2 Global Inc Stock\n",
            "\n"
          ],
          "name": "stdout"
        },
        {
          "output_type": "display_data",
          "data": {
            "image/png": "[encoded data removed]",
            "text/plain": [
              "<Figure size 432x288 with 1 Axes>"
            ]
          },
          "metadata": {
            "tags": [],
            "needs_background": "light"
          }
        }
      ]
    },
    {
      "cell_type": "code",
      "metadata": {
        "id": "I_QOWggZULPS"
      },
      "source": [
        "Time = time.time()\n",
        "\n",
        "print(len(Stocks))\n",
        "Stocks2 = torch.tensor(())\n",
        "NAZDAQ_names2 = []\n",
        "Length = len(Stocks[0])\n",
        "for i in range(len(Stocks)):\n",
        "    if len(Stocks[i]) == Length:\n",
        "        #Stocks2.append(Stocks[i])\n",
        "        NAZDAQ_names2.append(NAZDAQ_names3[i])\n",
        "        Stack = torch.tensor([Stocks[i]]).float()\n",
        "        Stocks2 = torch.cat((Stocks2, Stack), 0)\n",
        "\n",
        "\n",
        "Stocks_Flatten = Stocks2.detach().clone()\n",
        "X     = torch.linspace(0,Length-1, steps=Length)\n",
        "Mean  = torch.zeros(len(Stocks2))\n",
        "Var   = torch.zeros(len(Stocks2))\n",
        "Gain  = torch.zeros(len(Stocks2))\n",
        "Angle = torch.zeros(len(Stocks2))\n",
        "Residu= torch.zeros(len(Stocks2))\n",
        "\n",
        "loss = torch.nn.MSELoss()\n",
        "#all_color_aug = torch.cat([inputs[(\"color_aug\", i, 0)] for i in self.opt.frame_ids])\n",
        "#inputs[(n, im, i)] = self.to_tensor(f)\n",
        "\n",
        "\n",
        "for i in range(Stocks2.shape[0]):\n",
        "    Stocks_Flatten.data[i] = (Stocks2.data[i]/torch.max(Stocks2.data[i]))*100\n",
        "    #Gain[i] = Stocks2[i][Length-1] - Stocks2[i][0]\n",
        "    #Coeffs = X*Gain[i]/(Length -1 + 0.00001)\n",
        "    #Stocks_Flatten[i] = Stocks2[i]-Coeffs\n",
        "    Stocks_Flatten.data[i] = (Stocks_Flatten[i]-torch.min(Stocks_Flatten.data[i]))\n",
        "    Stocks_Flatten.data[i] = 100*Stocks_Flatten.data[i]/(torch.max(Stocks_Flatten.data[i]))\n",
        "    Gain[i] = Stocks_Flatten[i][Length-1] - Stocks_Flatten[i][0]\n",
        "    Coeffs = (X*Gain[i])/(Length -1 + 0.00001)\n",
        "    Stocks_Flatten[i] = Stocks_Flatten[i]-Coeffs\n",
        "    Var[i] = torch.var(Stocks_Flatten[i])   \n",
        "    Mean[i] = torch.mean(Stocks_Flatten[i])    \n",
        "\n",
        "    \n",
        "    A = torch.vstack((X, torch.ones(Length)))\n",
        "    A = torch.transpose(A, 0, 1)\n",
        "    #model_parameters, residuals, rank, singular_values = np.linalg.lstsq(A, Stocks2[i], rcond=None)\n",
        "    R, _ = torch.lstsq(Stocks2[i], A)\n",
        "    R = R[0:A.size(1)]   # in case of a 1D tensor, the R[0] is m (slop), and R[1] is c (bias)\n",
        "    #m, c = np.linalg.lstsq(A, Stocks2[i], rcond=None)[0]\n",
        "    Yh = torch.squeeze(A.mm(R))\n",
        "    #plt.plot(torch.transpose((torch.vstack((Stocks2[i], Yh))), 0, 1))\n",
        "    Angle[i] = R[0]\n",
        "    Residu[i] = loss(Yh, Stocks2[i])\n",
        "    \n",
        "print(time.time()-Time)"
      ],
      "execution_count": null,
      "outputs": []
    },
    {
      "cell_type": "code",
      "metadata": {
        "id": "ohjYh-18YjOy"
      },
      "source": [
        "Threshold_above = torch.ones(1)*Threshold_above\n",
        "Threshold_below = torch.ones(1)*Threshold_below\n",
        "Gainer_indexes  = torch.logical_and(Angle > Threshold_above, Angle < Threshold_below)\n",
        "Gainer_indexes = torch.squeeze(Gainer_indexes.nonzero())\n",
        "print(len(Gainer_indexes))\n",
        "#torch.tensor(torch.where((Threshold_below>Angle).nonzero(as_tuple=False)[0]))\n",
        "Gain  = Gain[Gainer_indexes]\n",
        "Angle = Angle[Gainer_indexes]\n",
        "Residu= Residu[Gainer_indexes]\n",
        "Var   = Var[Gainer_indexes]\n",
        "Stocks_Flatten = Stocks_Flatten[Gainer_indexes]\n",
        "Stocks2 = Stocks2[Gainer_indexes]\n",
        "NAZDAQ_names = []\n",
        "for i in Gainer_indexes:\n",
        "  NAZDAQ_names.append(NAZDAQ_names2[i])"
      ],
      "execution_count": null,
      "outputs": []
    },
    {
      "cell_type": "code",
      "metadata": {
        "colab": {
          "base_uri": "https://localhost:8080/",
          "height": 352
        },
        "id": "Jrxf0XaVWEdo",
        "outputId": "c45a0077-93d2-44ce-f0fd-1ea813f479de"
      },
      "source": [
        "print(len(NAZDAQ_names))\n",
        "i = np.argmin(Var)           # the criteria for choosing a stock\n",
        "#print(i)\n",
        "#R, _ = torch.lstsq(Stocks2[i], A)\n",
        "print(A.shape)\n",
        "print(Stocks2[i].shape)\n",
        "R, _ = torch.lstsq(Stocks2[i], A)\n",
        "R = R[0:A.size(1)]   # in case of a 1D tensor, the R[0] is m (slop), and R[1] is c (bias)\n",
        "#m, c = np.linalg.lstsq(A, Stocks2[i], rcond=None)[0]\n",
        "Yh = torch.squeeze(A.mm(R))\n",
        "plt.plot(torch.transpose((torch.vstack((Stocks2[i], Yh))), 0, 1))\n",
        "print(\"Stock name: \" + NAZDAQ_names[i])\n",
        "#print(np.arctan(Angle[i])*57.2)\n"
      ],
      "execution_count": 180,
      "outputs": [
        {
          "output_type": "stream",
          "text": [
            "572\n",
            "torch.Size([41, 2])\n",
            "torch.Size([41])\n",
            "Stock name: JCOM j2 Global Inc Stock\n",
            "\n"
          ],
          "name": "stdout"
        },
        {
          "output_type": "display_data",
          "data": {
            "image/png": "[encoded data removed]",
            "text/plain": [
              "<Figure size 432x288 with 1 Axes>"
            ]
          },
          "metadata": {
            "tags": [],
            "needs_background": "light"
          }
        }
      ]
    }
  ]
}